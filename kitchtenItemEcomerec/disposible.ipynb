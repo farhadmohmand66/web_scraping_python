{
 "cells": [
  {
   "cell_type": "code",
   "execution_count": 13,
   "metadata": {},
   "outputs": [],
   "source": [
    "import requests\n",
    "from bs4 import BeautifulSoup\n",
    "import pandas as pd"
   ]
  },
  {
   "cell_type": "code",
   "execution_count": null,
   "metadata": {},
   "outputs": [],
   "source": [
    "# url = \"https://www.webstaurantstore.com/\"\n",
    "# headers = {\n",
    "    # 'user': 'Mozilla/5.0 (Windows NT 10.0; Win64; x64) AppleWebKit/537.36 (KHTML, like Gecko) Chrome/103.0.0.0 Safari/537.36'\n",
    "# }"
   ]
  },
  {
   "cell_type": "code",
   "execution_count": 16,
   "metadata": {},
   "outputs": [],
   "source": [
    "r = requests.get(\"https://www.webstaurantstore.com/2853/knife-racks-holders.html\")\n",
    "soup = BeautifulSoup(r.content, 'lxml')\n",
    "productList = soup.find_all('div',  id = 'ProductBoxContainer')"
   ]
  },
  {
   "cell_type": "code",
   "execution_count": null,
   "metadata": {},
   "outputs": [],
   "source": [
    "# df = pd.DataFrame(productList)\n",
    "# print(df)"
   ]
  },
  {
   "cell_type": "code",
   "execution_count": 15,
   "metadata": {},
   "outputs": [
    {
     "name": "stdout",
     "output_type": "stream",
     "text": [
      "44\n"
     ]
    }
   ],
   "source": [
    "productLinks = set()\n",
    "for ProductBoxContainer in productList:\n",
    "    for link in ProductBoxContainer.find_all('a', href =True):\n",
    "        (link['href'])\n",
    "        productLinks.add(url + link['href'])\n",
    "print(len(productLinks))"
   ]
  },
  {
   "cell_type": "code",
   "execution_count": null,
   "metadata": {},
   "outputs": [],
   "source": [
    "disposible = []\n",
    "for link in productLinks:\n",
    "    r1 = requests.get(link, headers=headers)\n",
    "    soup1 = BeautifulSoup(r1.content, 'lxml')\n",
    "    try:\n",
    "        upcCode = soup1.find('span', class_=\"product__stat-desc\").text.strip()\n",
    "    except:\n",
    "        upcCode = 'no Attibute'\n",
    "    try:\n",
    "        itemPrice = soup1.find('p', class_=\"price\").text.strip()\n",
    "    except:\n",
    "        itemPrice = 'No attribute'\n",
    "    try:\n",
    "        itemNo = soup1.find('span', style=\"text-transform:uppercase\").text.strip()\n",
    "    except:\n",
    "        itemNo = 'No Attribute'\n",
    "    try:\n",
    "        name = soup1.find('h1', class_='page-header').text.strip()\n",
    "    except:\n",
    "        name = 'No Attribute'\n",
    "    \n",
    "    container ={\n",
    "        'name': name,\n",
    "        'itemNo': itemNo,\n",
    "        'upcCode': upcCode,\n",
    "        'price': itemPrice\n",
    "            }\n",
    "    disposible.append(container)\n",
    "    print('saving: ', container['name'])"
   ]
  },
  {
   "cell_type": "code",
   "execution_count": null,
   "metadata": {},
   "outputs": [],
   "source": [
    "df2 = pd.DataFrame(disposible)\n",
    "print(df2)"
   ]
  },
  {
   "cell_type": "code",
   "execution_count": null,
   "metadata": {},
   "outputs": [],
   "source": [
    "df2.to_csv(\"C:\\\\Users\\\\Toshiba\\\\Desktop\\\\New folder\\\\projectss\\\\cutleryWebStore.csv\", index =True)"
   ]
  }
 ],
 "metadata": {
  "kernelspec": {
   "display_name": "Python 3.10.6 64-bit",
   "language": "python",
   "name": "python3"
  },
  "language_info": {
   "codemirror_mode": {
    "name": "ipython",
    "version": 3
   },
   "file_extension": ".py",
   "mimetype": "text/x-python",
   "name": "python",
   "nbconvert_exporter": "python",
   "pygments_lexer": "ipython3",
   "version": "3.9.1"
  },
  "orig_nbformat": 4,
  "vscode": {
   "interpreter": {
    "hash": "26de051ba29f2982a8de78e945f0abaf191376122a1563185a90213a26c5da77"
   }
  }
 },
 "nbformat": 4,
 "nbformat_minor": 2
}
