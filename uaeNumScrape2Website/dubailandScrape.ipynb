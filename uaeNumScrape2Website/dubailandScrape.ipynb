{
 "cells": [
  {
   "cell_type": "code",
   "execution_count": 110,
   "metadata": {},
   "outputs": [],
   "source": [
    "from selenium import webdriver\n",
    "from selenium.webdriver.common.by import By\n",
    "from selenium.common.exceptions import NoSuchElementException\n",
    "from selenium.webdriver.common.by import By\n",
    "from selenium.webdriver.common.keys import Keys\n",
    "from selenium.webdriver.support.ui import WebDriverWait\n",
    "from selenium.webdriver.support import expected_conditions as EC\n",
    "import time"
   ]
  },
  {
   "cell_type": "code",
   "execution_count": 111,
   "metadata": {},
   "outputs": [],
   "source": [
    "chromedriverPath = r'C:\\Users\\driver\\chromedriver.exe'\n",
    "# Create a Service object with the path to chromedriver\n",
    "chromeService = webdriver.chrome.service.Service(chromedriverPath)\n",
    "# Start the service\n",
    "chromeService.start()\n",
    "# Create the WebDriver using the Service object\n",
    "driver = webdriver.Chrome(service=chromeService)"
   ]
  },
  {
   "cell_type": "code",
   "execution_count": 112,
   "metadata": {},
   "outputs": [],
   "source": [
    "url = 'https://dubailand.gov.ae/en/eservices/licensed-real-estate-brokers/licensed-real-estate-brokers-list/#/'\n",
    "\n",
    "# Open the webpage\n",
    "driver.get(url)"
   ]
  },
  {
   "cell_type": "code",
   "execution_count": 113,
   "metadata": {},
   "outputs": [],
   "source": [
    "\n",
    "# Initialize an empty list to store phone numbers\n",
    "phone_numbers8 = set()\n",
    "# Set the maximum number of pages you want to scrape\n",
    "max_pages = 3  # Change this to the desired number\n",
    "\n",
    "page = 1\n",
    "\n",
    "while page <= max_pages:\n",
    "    try:\n",
    "        # Use WebDriverWait to locate the phone elements by class name\n",
    "        phone_elements = WebDriverWait(driver, 10).until(\n",
    "            EC.presence_of_all_elements_located((By.CLASS_NAME, 'call'))\n",
    "        )\n",
    "\n",
    "        # Loop through the phone elements and extract phone numbers\n",
    "        for phone_element in phone_elements:\n",
    "            phone_text = phone_element.text\n",
    "            if phone_text.startswith('971'):\n",
    "                phone_numbers8.add(phone_text)\n",
    "    except:\n",
    "        phone_numbers8.add(\"00000000000\")\n",
    "    \n",
    "    try:\n",
    "        # Use WebDriverWait to locate the \"Load More\" button by XPath\n",
    "        load_more_button = WebDriverWait(driver, 10).until(\n",
    "            EC.presence_of_element_located((By.XPATH, '//*[@id=\"load-more\"]/div/button'))\n",
    "        )\n",
    "\n",
    "        # Scroll to the \"Load More\" button to make it clickable\n",
    "        driver.execute_script(\"arguments[0].scrollIntoView(true);\", load_more_button)\n",
    "        \n",
    "        # Click the \"Load More\" button using JavaScript\n",
    "        driver.execute_script(\"arguments[0].click();\", load_more_button)\n",
    "        \n",
    "        time.sleep(2)  # Add a delay to ensure the new content loads\n",
    "        page += 1  # Increment the page counter\n",
    "    except NoSuchElementException:\n",
    "        print(\"Load More button not found on this page.\")\n",
    "        break  # Stop scraping when the button is not found"
   ]
  },
  {
   "cell_type": "code",
   "execution_count": 114,
   "metadata": {},
   "outputs": [
    {
     "name": "stdout",
     "output_type": "stream",
     "text": [
      "647\n"
     ]
    }
   ],
   "source": [
    "print(len(phone_numbers8))"
   ]
  },
  {
   "cell_type": "code",
   "execution_count": null,
   "metadata": {},
   "outputs": [],
   "source": [
    "import pandas as pd\n",
    "\n",
    "# Assuming you have the 'phone_numbers3' set containing the scraped phone numbers\n",
    "\n",
    "# Convert the set to a list\n",
    "phone_numbers_list = list(phone_numbers3)\n",
    "\n",
    "# Create a DataFrame\n",
    "data = pd.DataFrame({'Phone Numbers': phone_numbers_list})\n",
    "\n"
   ]
  },
  {
   "cell_type": "code",
   "execution_count": null,
   "metadata": {},
   "outputs": [],
   "source": [
    "# Save the DataFrame to an Excel file\n",
    "data.to_excel('phone_numbersDubailand.xlsx', index=False)"
   ]
  }
 ],
 "metadata": {
  "kernelspec": {
   "display_name": "Python 3",
   "language": "python",
   "name": "python3"
  },
  "language_info": {
   "codemirror_mode": {
    "name": "ipython",
    "version": 3
   },
   "file_extension": ".py",
   "mimetype": "text/x-python",
   "name": "python",
   "nbconvert_exporter": "python",
   "pygments_lexer": "ipython3",
   "version": "3.9.1"
  }
 },
 "nbformat": 4,
 "nbformat_minor": 2
}
