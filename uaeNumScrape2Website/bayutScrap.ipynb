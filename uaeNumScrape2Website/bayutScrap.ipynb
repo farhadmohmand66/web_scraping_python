{
 "cells": [
  {
   "cell_type": "code",
   "execution_count": 1,
   "metadata": {},
   "outputs": [],
   "source": [
    "import time\n",
    "from selenium import webdriver\n",
    "from selenium.webdriver.common.by import By\n",
    "from selenium.webdriver.common.keys import Keys\n",
    "from selenium.webdriver.support.ui import WebDriverWait\n",
    "from selenium.webdriver.support import expected_conditions as EC"
   ]
  },
  {
   "cell_type": "code",
   "execution_count": 2,
   "metadata": {},
   "outputs": [],
   "source": [
    "chromedriverPath = r'C:\\Users\\driver\\chromedriver.exe'\n",
    "# Create a Service object with the path to chromedriver\n",
    "chromeService = webdriver.chrome.service.Service(chromedriverPath)\n",
    "# Start the service\n",
    "chromeService.start()\n",
    "# Create the WebDriver using the Service object\n",
    "driver = webdriver.Chrome(service=chromeService)"
   ]
  },
  {
   "cell_type": "code",
   "execution_count": 3,
   "metadata": {},
   "outputs": [],
   "source": [
    "url= 'https://www.bayut.com/for-sale/property/uae/?sort=date_desc&completion_status=ready'\n",
    "driver.get(url)"
   ]
  },
  {
   "cell_type": "code",
   "execution_count": 12,
   "metadata": {},
   "outputs": [],
   "source": [
    "start_page = 1  \n",
    "end_page = 2    \n",
    "\n",
    "unique_links = set()\n",
    "\n",
    "for page in range(start_page, end_page + 1):\n",
    "    # Find all elements with a specific class\n",
    "    wait = WebDriverWait(driver, 10)\n",
    "    elements_with_class = wait.until(EC.presence_of_all_elements_located((By.CLASS_NAME, 'ef447dde')))\n",
    "\n",
    "    # Iterate through the elements and extract links\n",
    "        # Extract the first link from each element with the class\n",
    "    for element in elements_with_class:\n",
    "        try:\n",
    "        # Extract the first link within the element\n",
    "        \n",
    "            call_button = element.find_element(By.CLASS_NAME, '_85d9f2e2')\n",
    "            call_button.click()\n",
    "        \n",
    "            # Wait for the popup to appear\n",
    "            popup = WebDriverWait(driver, 10).until(EC.presence_of_element_located((By.CLASS_NAME, '_2ff591d9')))\n",
    "            \n",
    "            # Extract the phone number from the pop-up\n",
    "            phone_number = popup.find_element(By.TAG_NAME, 'a').text\n",
    "            unique_links.add(phone_number)\n",
    "\n",
    "            # Click the \"Close\" button\n",
    "            close_button = popup.find_element(By.CLASS_NAME, 'eae3ed68')\n",
    "            close_button.click()\n",
    "\n",
    "\n",
    "        except Exception as e:\n",
    "            print(f\"An error occurred while extracting links: {str(e)}\")\n",
    "\n",
    "    # Check if there is a \"Next\" button and if it's not the last page, click it  \n",
    "        \n",
    "    if page < end_page:\n",
    "        try:\n",
    "            # Wait for the element to be clickable\n",
    "            wait = WebDriverWait(driver, 10)\n",
    "            next_button = wait.until(EC.element_to_be_clickable((By.CLASS_NAME, 'b7880daf')))\n",
    "            \n",
    "            if next_button.is_displayed() and next_button.is_enabled():\n",
    "                next_button.click()\n",
    "            else:\n",
    "                print(\"Next button is not visible or not enabled.\")\n",
    "        except Exception as e:\n",
    "            print(f\"An error occurred while clicking the 'Next' button: {str(e)}\")\n",
    "    else:\n",
    "        break\n",
    "\n"
   ]
  },
  {
   "cell_type": "code",
   "execution_count": 13,
   "metadata": {},
   "outputs": [
    {
     "data": {
      "text/plain": [
       "{'+971-2-2356598',\n",
       " '+971-2-2356657',\n",
       " '+971-2-2356854',\n",
       " '+971-4-2493904',\n",
       " '+971-4-5425717',\n",
       " '+971-4-5427600',\n",
       " '+971-4-5429710',\n",
       " '+971-4-8723018',\n",
       " '+971-50-3454395',\n",
       " '+971-50-5355305',\n",
       " '+971-50-6525949',\n",
       " '+971-50-7188172',\n",
       " '+971-52-1928162',\n",
       " '+971-52-2913612',\n",
       " '+971-52-3107254',\n",
       " '+971-52-4701065',\n",
       " '+971-52-6755938',\n",
       " '+971-52-8492684',\n",
       " '+971-52-8537041',\n",
       " '+971-52-8930206',\n",
       " '+971-52-8932455',\n",
       " '+971-52-8956487',\n",
       " '+971-52-9043615',\n",
       " '+971-54-4425017',\n",
       " '+971-54-4827604',\n",
       " '+971-54-5050513',\n",
       " '+971-54-5544465',\n",
       " '+971-55-2266416',\n",
       " '+971-55-6602633',\n",
       " '+971-56-6054997',\n",
       " '+971-58-1856681',\n",
       " '+971-58-2569777',\n",
       " '+971-58-5291319',\n",
       " '+971-58-5870574',\n",
       " '+971-58-6597611',\n",
       " '+971-58-8031500',\n",
       " '+971-58-8037782',\n",
       " '+97145426737',\n",
       " '+971507188172',\n",
       " '+971526755938',\n",
       " '+971544425017',\n",
       " '+971568306004',\n",
       " '+971585998763'}"
      ]
     },
     "execution_count": 13,
     "metadata": {},
     "output_type": "execute_result"
    }
   ],
   "source": [
    "unique_links"
   ]
  },
  {
   "cell_type": "code",
   "execution_count": 14,
   "metadata": {},
   "outputs": [
    {
     "name": "stdout",
     "output_type": "stream",
     "text": [
      "43\n"
     ]
    }
   ],
   "source": [
    "print(len(unique_links))"
   ]
  },
  {
   "cell_type": "code",
   "execution_count": 15,
   "metadata": {},
   "outputs": [],
   "source": [
    "import pandas as pd\n",
    "\n",
    "# Assuming you have the 'phone_numbers3' set containing the scraped phone numbers\n",
    "\n",
    "# Convert the set to a list\n",
    "phone_numbers_list = list(unique_links)\n",
    "\n",
    "# Create a DataFrame\n",
    "data = pd.DataFrame({'bayutScrap': phone_numbers_list})\n"
   ]
  },
  {
   "cell_type": "code",
   "execution_count": 17,
   "metadata": {},
   "outputs": [
    {
     "data": {
      "text/html": [
       "<div>\n",
       "<style scoped>\n",
       "    .dataframe tbody tr th:only-of-type {\n",
       "        vertical-align: middle;\n",
       "    }\n",
       "\n",
       "    .dataframe tbody tr th {\n",
       "        vertical-align: top;\n",
       "    }\n",
       "\n",
       "    .dataframe thead th {\n",
       "        text-align: right;\n",
       "    }\n",
       "</style>\n",
       "<table border=\"1\" class=\"dataframe\">\n",
       "  <thead>\n",
       "    <tr style=\"text-align: right;\">\n",
       "      <th></th>\n",
       "      <th>bayutScrap</th>\n",
       "    </tr>\n",
       "  </thead>\n",
       "  <tbody>\n",
       "    <tr>\n",
       "      <th>0</th>\n",
       "      <td>+971-50-7188172</td>\n",
       "    </tr>\n",
       "    <tr>\n",
       "      <th>1</th>\n",
       "      <td>+971-58-5291319</td>\n",
       "    </tr>\n",
       "    <tr>\n",
       "      <th>2</th>\n",
       "      <td>+971-54-5050513</td>\n",
       "    </tr>\n",
       "    <tr>\n",
       "      <th>3</th>\n",
       "      <td>+971-54-4425017</td>\n",
       "    </tr>\n",
       "    <tr>\n",
       "      <th>4</th>\n",
       "      <td>+971-52-8537041</td>\n",
       "    </tr>\n",
       "  </tbody>\n",
       "</table>\n",
       "</div>"
      ],
      "text/plain": [
       "        bayutScrap\n",
       "0  +971-50-7188172\n",
       "1  +971-58-5291319\n",
       "2  +971-54-5050513\n",
       "3  +971-54-4425017\n",
       "4  +971-52-8537041"
      ]
     },
     "execution_count": 17,
     "metadata": {},
     "output_type": "execute_result"
    }
   ],
   "source": [
    "data.head()"
   ]
  },
  {
   "cell_type": "code",
   "execution_count": 18,
   "metadata": {},
   "outputs": [],
   "source": [
    "# Save the DataFrame to an Excel file\n",
    "data.to_excel('phone_numbersBayut.xlsx', index=False)"
   ]
  },
  {
   "cell_type": "code",
   "execution_count": null,
   "metadata": {},
   "outputs": [],
   "source": []
  }
 ],
 "metadata": {
  "kernelspec": {
   "display_name": "Python 3",
   "language": "python",
   "name": "python3"
  },
  "language_info": {
   "codemirror_mode": {
    "name": "ipython",
    "version": 3
   },
   "file_extension": ".py",
   "mimetype": "text/x-python",
   "name": "python",
   "nbconvert_exporter": "python",
   "pygments_lexer": "ipython3",
   "version": "3.9.1"
  }
 },
 "nbformat": 4,
 "nbformat_minor": 2
}
