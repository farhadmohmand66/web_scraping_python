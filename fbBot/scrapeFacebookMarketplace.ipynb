{
 "cells": [
  {
   "cell_type": "markdown",
   "metadata": {},
   "source": [
    "Webscrpaing of Facebook Marketplace"
   ]
  },
  {
   "cell_type": "code",
   "execution_count": 142,
   "metadata": {},
   "outputs": [],
   "source": [
    "from selenium import webdriver\n",
    "import time"
   ]
  },
  {
   "cell_type": "code",
   "execution_count": 144,
   "metadata": {},
   "outputs": [
    {
     "name": "stderr",
     "output_type": "stream",
     "text": [
      "C:\\Users\\Toshiba\\AppData\\Local\\Temp\\ipykernel_14292\\3640642841.py:2: DeprecationWarning: executable_path has been deprecated, please pass in a Service object\n",
      "  driver = webdriver.Chrome(chromedriverPath)\n"
     ]
    }
   ],
   "source": [
    "\n",
    "chromedriverPath = r'C:\\Users\\driver\\chromedriver.exe'\n",
    "driver = webdriver.Chrome(chromedriverPath)\n",
    "url = 'https://web.facebook.com/marketplace/category/iphones/'\n",
    "driver.get(url)"
   ]
  },
  {
   "cell_type": "code",
   "execution_count": null,
   "metadata": {},
   "outputs": [],
   "source": [
    "# # Scroll down the page to load more elements using JavaScript\n",
    "# scroll_script = \"window.scrollTo(0, document.body.scrollHeight);\"\n",
    "# for _ in range(3):  # You may need to adjust the number of times you scroll\n",
    "#     driver.execute_script(scroll_script)\n",
    "#     time.sleep(2)  # Wait for the page to load, you can adjust the time"
   ]
  },
  {
   "cell_type": "code",
   "execution_count": 145,
   "metadata": {},
   "outputs": [
    {
     "name": "stderr",
     "output_type": "stream",
     "text": [
      "C:\\Users\\Toshiba\\AppData\\Local\\Temp\\ipykernel_14292\\2882666425.py:7: DeprecationWarning: find_elements_by_* commands are deprecated. Please use find_elements() instead\n",
      "  product_divs = driver.find_elements_by_css_selector(allSelect)\n"
     ]
    }
   ],
   "source": [
    "# Find all the div elements with the specified classes \n",
    "allSelect =(\n",
    "\n",
    "'.x9f619.x78zum5.x1r8uery.xdt5ytf.x1iyjqo2.\\\n",
    "xs83m0k.x1e558r4.x150jy0e.x1iorvi4.xjkvuk6.xnpuxes.x291uyu.x1uepa24'\n",
    ")\n",
    "product_divs = driver.find_elements_by_css_selector(allSelect)\n"
   ]
  },
  {
   "cell_type": "code",
   "execution_count": 146,
   "metadata": {},
   "outputs": [
    {
     "name": "stdout",
     "output_type": "stream",
     "text": [
      "32\n"
     ]
    }
   ],
   "source": [
    "print(len(product_divs))"
   ]
  },
  {
   "cell_type": "code",
   "execution_count": 147,
   "metadata": {},
   "outputs": [
    {
     "name": "stderr",
     "output_type": "stream",
     "text": [
      "C:\\Users\\Toshiba\\AppData\\Roaming\\Python\\Python39\\site-packages\\selenium\\webdriver\\remote\\webelement.py:483: UserWarning: find_element_by_* commands are deprecated. Please use find_element() instead\n",
      "  warnings.warn(\"find_element_by_* commands are deprecated. Please use find_element() instead\")\n"
     ]
    },
    {
     "name": "stdout",
     "output_type": "stream",
     "text": [
      "Error while scraping\n",
      "Error while scraping\n",
      "Error while scraping\n",
      "Error while scraping\n",
      "Error while scraping\n",
      "Error while scraping\n",
      "Error while scraping\n",
      "Error while scraping\n"
     ]
    }
   ],
   "source": [
    "# Loop through each product div to extract data\n",
    "products = []\n",
    "for div in product_divs:\n",
    "    try:\n",
    "        # Extract the link\n",
    "        link_element = div.find_element_by_css_selector('a')\n",
    "        link = link_element.get_attribute('href')\n",
    "        # links.append(link)\n",
    "        \n",
    "        # Extract the price\n",
    "        priceSelector = (\n",
    "            '.x193iq5w.xeuugli.x13faqbe.x1vvkbs.x1xmvt09.x1lliihq.x1s928wv.'\n",
    "            'xhkezso.x1gmr53x.x1cpjm7i.x1fgarty.x1943h6x.xudqn12.x676frb.'\n",
    "            'x1lkfr7t.x1lbecb7.x1s688f.xzsf02u'\n",
    "        )\n",
    "\n",
    "        price_element = div.find_element_by_css_selector(priceSelector)\n",
    "        price = price_element.text.strip()\n",
    "    \n",
    "        nameSelector = '.x1lliihq.x6ikm8r.x10wlt62.x1n2onr6'\n",
    "        name_element = div.find_element_by_css_selector(nameSelector)\n",
    "        name = name_element.text.strip()\n",
    "        # names.append(name)\n",
    "\n",
    "        container ={\n",
    "                'name': name,\n",
    "                'price': price,\n",
    "                'link': link\n",
    "                }\n",
    "        products.append(container)\n",
    "    except Exception as e:\n",
    "        print(\"Error while scraping\")\n",
    "        continue"
   ]
  },
  {
   "cell_type": "code",
   "execution_count": 148,
   "metadata": {},
   "outputs": [
    {
     "data": {
      "text/plain": [
       "[{'name': 'iPhone 11 non pta',\n",
       "  'price': 'Rs76,000',\n",
       "  'link': 'https://web.facebook.com/marketplace/item/1356468578632584/?ref=category_feed&referral_code=null&referral_story_type=post&tracking=browse_serp%3Ab7dddb78-390f-41a5-b735-7b3ffd70b091&__tn__=!%3AD'},\n",
       " {'name': 'I phone 7 for sale',\n",
       "  'price': 'Rs10,000',\n",
       "  'link': 'https://web.facebook.com/marketplace/item/657300869732370/?ref=category_feed&referral_code=null&referral_story_type=post&tracking=browse_serp%3Ab7dddb78-390f-41a5-b735-7b3ffd70b091&__tn__=!%3AD'},\n",
       " {'name': 'Iphone 11 pro',\n",
       "  'price': 'Rs110,000',\n",
       "  'link': 'https://web.facebook.com/marketplace/item/1281364719163761/?ref=category_feed&referral_code=null&referral_story_type=post&tracking=browse_serp%3Ab7dddb78-390f-41a5-b735-7b3ffd70b091&__tn__=!%3AD'},\n",
       " {'name': 'I Phone 12 pro max',\n",
       "  'price': 'Rs155,000',\n",
       "  'link': 'https://web.facebook.com/marketplace/item/1693285467812023/?ref=category_feed&referral_code=null&referral_story_type=post&tracking=browse_serp%3Ab7dddb78-390f-41a5-b735-7b3ffd70b091&__tn__=!%3AD'},\n",
       " {'name': 'I phone 6s plus sell jas bahi lay ha sms kary',\n",
       "  'price': 'Rs19,000',\n",
       "  'link': 'https://web.facebook.com/marketplace/item/267458409438877/?ref=category_feed&referral_code=null&referral_story_type=post&tracking=browse_serp%3Ab7dddb78-390f-41a5-b735-7b3ffd70b091&__tn__=!%3AD'},\n",
       " {'name': 'Apple i phone Xs',\n",
       "  'price': 'Rs63,500',\n",
       "  'link': 'https://web.facebook.com/marketplace/item/727148132570230/?ref=category_feed&referral_code=null&referral_story_type=post&tracking=browse_serp%3Ab7dddb78-390f-41a5-b735-7b3ffd70b091&__tn__=!%3AD'},\n",
       " {'name': 'I phone 6',\n",
       "  'price': 'Rs8,000',\n",
       "  'link': 'https://web.facebook.com/marketplace/item/684210096557164/?ref=category_feed&referral_code=null&referral_story_type=post&tracking=browse_serp%3Ab7dddb78-390f-41a5-b735-7b3ffd70b091&__tn__=!%3AD'},\n",
       " {'name': 'Iphone xr',\n",
       "  'price': 'Rs57,000',\n",
       "  'link': 'https://web.facebook.com/marketplace/item/1089962648638866/?ref=category_feed&referral_code=null&referral_story_type=post&tracking=browse_serp%3Ab7dddb78-390f-41a5-b735-7b3ffd70b091&__tn__=!%3AD'},\n",
       " {'name': 'i phone 7+ 128gb PTA approved official',\n",
       "  'price': 'Rs35,000',\n",
       "  'link': 'https://web.facebook.com/marketplace/item/606651678328309/?ref=category_feed&referral_code=null&referral_story_type=post&tracking=browse_serp%3Ab7dddb78-390f-41a5-b735-7b3ffd70b091&__tn__=!%3AD'},\n",
       " {'name': 'I phone 7 plus Gold colour',\n",
       "  'price': 'Rs27,500',\n",
       "  'link': 'https://web.facebook.com/marketplace/item/210964455001958/?ref=category_feed&referral_code=null&referral_story_type=post&tracking=browse_serp%3Ab7dddb78-390f-41a5-b735-7b3ffd70b091&__tn__=!%3AD'},\n",
       " {'name': 'I phone 8',\n",
       "  'price': 'Rs26,000',\n",
       "  'link': 'https://web.facebook.com/marketplace/item/721096473389765/?ref=category_feed&referral_code=null&referral_story_type=post&tracking=browse_serp%3Ab7dddb78-390f-41a5-b735-7b3ffd70b091&__tn__=!%3AD'},\n",
       " {'name': 'I PHONE 11 NON PTA 64GB SIM WORKING',\n",
       "  'price': 'Rs85,000',\n",
       "  'link': 'https://web.facebook.com/marketplace/item/596447176007434/?ref=category_feed&referral_code=null&referral_story_type=post&tracking=browse_serp%3Ab7dddb78-390f-41a5-b735-7b3ffd70b091&__tn__=!%3AD'},\n",
       " {'name': 'iphone Xr Non Pta Factory Unlock (Sadiqabad)',\n",
       "  'price': 'Rs55,000',\n",
       "  'link': 'https://web.facebook.com/marketplace/item/120290514491133/?ref=category_feed&referral_code=null&referral_story_type=post&tracking=browse_serp%3Ab7dddb78-390f-41a5-b735-7b3ffd70b091&__tn__=!%3AD'},\n",
       " {'name': 'I phone 7 non pta',\n",
       "  'price': 'Rs19,000',\n",
       "  'link': 'https://web.facebook.com/marketplace/item/106513292532281/?ref=category_feed&referral_code=null&referral_story_type=post&tracking=browse_serp%3Ab7dddb78-390f-41a5-b735-7b3ffd70b091&__tn__=!%3AD'},\n",
       " {'name': 'I phone 8 plus non pta sim working',\n",
       "  'price': 'Rs48,500',\n",
       "  'link': 'https://web.facebook.com/marketplace/item/218828584106364/?ref=category_feed&referral_code=null&referral_story_type=post&tracking=browse_serp%3Ab7dddb78-390f-41a5-b735-7b3ffd70b091&__tn__=!%3AD'},\n",
       " {'name': 'I phone 8+',\n",
       "  'price': 'Rs45,000',\n",
       "  'link': 'https://web.facebook.com/marketplace/item/840041957753425/?ref=category_feed&referral_code=null&referral_story_type=post&tracking=browse_serp%3Ab7dddb78-390f-41a5-b735-7b3ffd70b091&__tn__=!%3AD'},\n",
       " {'name': 'I phone 6',\n",
       "  'price': 'Rs17,000',\n",
       "  'link': 'https://web.facebook.com/marketplace/item/808548177429263/?ref=category_feed&referral_code=null&referral_story_type=post&tracking=browse_serp%3Ab7dddb78-390f-41a5-b735-7b3ffd70b091&__tn__=!%3AD'},\n",
       " {'name': 'I phone Xr nonpta 64 gb',\n",
       "  'price': 'Rs48,000',\n",
       "  'link': 'https://web.facebook.com/marketplace/item/137977639325262/?ref=category_feed&referral_code=null&referral_story_type=post&tracking=browse_serp%3Ab7dddb78-390f-41a5-b735-7b3ffd70b091&__tn__=!%3AD'},\n",
       " {'name': 'I phone 7 plus',\n",
       "  'price': 'Rs42,000',\n",
       "  'link': 'https://web.facebook.com/marketplace/item/138243512688392/?ref=category_feed&referral_code=null&referral_story_type=post&tracking=browse_serp%3Ab7dddb78-390f-41a5-b735-7b3ffd70b091&__tn__=!%3AD'},\n",
       " {'name': 'IPHONE 7Plus 128 gb Pta Approved',\n",
       "  'price': 'Rs35,000',\n",
       "  'link': 'https://web.facebook.com/marketplace/item/662541602516251/?ref=category_feed&referral_code=null&referral_story_type=post&tracking=browse_serp%3Ab7dddb78-390f-41a5-b735-7b3ffd70b091&__tn__=!%3AD'},\n",
       " {'name': 'I Phone SE 2020 JV',\n",
       "  'price': 'Rs38,000',\n",
       "  'link': 'https://web.facebook.com/marketplace/item/737694651403036/?ref=category_feed&referral_code=null&referral_story_type=post&tracking=browse_serp%3Ab7dddb78-390f-41a5-b735-7b3ffd70b091&__tn__=!%3AD'},\n",
       " {'name': 'I PHONE 7 PLUS',\n",
       "  'price': 'Rs43,000',\n",
       "  'link': 'https://web.facebook.com/marketplace/item/202323846166265/?ref=category_feed&referral_code=null&referral_story_type=post&tracking=browse_serp%3Ab7dddb78-390f-41a5-b735-7b3ffd70b091&__tn__=!%3AD'},\n",
       " {'name': 'I phone 6 64gb PTA Approved condition 10/9 no box only charger',\n",
       "  'price': 'Rs17,000',\n",
       "  'link': 'https://web.facebook.com/marketplace/item/1310776876245180/?ref=category_feed&referral_code=null&referral_story_type=post&tracking=browse_serp%3Ab7dddb78-390f-41a5-b735-7b3ffd70b091&__tn__=!%3AD'},\n",
       " {'name': 'I phone XR',\n",
       "  'price': 'Rs57,000',\n",
       "  'link': 'https://web.facebook.com/marketplace/item/231904889824416/?ref=category_feed&referral_code=null&referral_story_type=post&tracking=browse_serp%3Ab7dddb78-390f-41a5-b735-7b3ffd70b091&__tn__=!%3AD'}]"
      ]
     },
     "execution_count": 148,
     "metadata": {},
     "output_type": "execute_result"
    }
   ],
   "source": [
    "products"
   ]
  }
 ],
 "metadata": {
  "kernelspec": {
   "display_name": "Python 3",
   "language": "python",
   "name": "python3"
  },
  "language_info": {
   "codemirror_mode": {
    "name": "ipython",
    "version": 3
   },
   "file_extension": ".py",
   "mimetype": "text/x-python",
   "name": "python",
   "nbconvert_exporter": "python",
   "pygments_lexer": "ipython3",
   "version": "3.9.1"
  },
  "orig_nbformat": 4
 },
 "nbformat": 4,
 "nbformat_minor": 2
}
